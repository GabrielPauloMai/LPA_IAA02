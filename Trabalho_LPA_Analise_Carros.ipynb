{
  "cells": [
    {
      "cell_type": "markdown",
      "id": "f70611ab",
      "metadata": {
        "id": "f70611ab"
      },
      "source": [
        "# **Trabalho de Linguagem de Programação Aplicada - Análise de Preços de Carros no Brasil**\n",
        "\n",
        "Este notebook contém a análise exploratória, visualização de dados e aplicação de modelos de machine learning na base `precos_carros_brasil.csv`, referente aos preços médios de carros no Brasil no ano de 2021."
      ]
    },
    {
      "cell_type": "markdown",
      "id": "ee432075",
      "metadata": {
        "id": "ee432075"
      },
      "source": [
        "---\n",
        "## **1. Análise Exploratória dos Dados**\n",
        "Nesta seção, realizaremos a análise inicial da base para entender sua estrutura e qualidade."
      ]
    },
    {
      "cell_type": "markdown",
      "id": "36a96a03",
      "metadata": {
        "id": "36a96a03"
      },
      "source": [
        "### **1.1 Carregamento dos Dados**\n",
        "Carregamos a base `precos_carros_brasil.csv` e visualizamos suas primeiras linhas."
      ]
    },
    {
      "cell_type": "code",
      "id": "369a86d1",
      "metadata": {
        "ExecuteTime": {
          "end_time": "2025-02-21T22:05:12.895656Z",
          "start_time": "2025-02-21T22:05:12.491771Z"
        },
        "id": "369a86d1",
        "outputId": "ce35056b-7f0d-48a6-c624-ba0b2daae404",
        "colab": {
          "base_uri": "https://localhost:8080/",
          "height": 206
        }
      },
      "source": [
        "import pandas as pd\n",
        "import seaborn as sns\n",
        "import matplotlib.pyplot as plt\n",
        "import warnings\n",
        "warnings.filterwarnings('ignore')\n",
        "\n",
        "data = pd.read_csv('precos_carros_brasil.csv')\n",
        "data.head()"
      ],
      "outputs": [
        {
          "output_type": "execute_result",
          "data": {
            "text/plain": [
              "   year_of_reference month_of_reference fipe_code authentication  \\\n",
              "0             2021.0            January  004001-0   cfzlctzfwrcp   \n",
              "1             2021.0            January  004001-0   cdqwxwpw3y2p   \n",
              "2             2021.0            January  004001-0   cb1t3xwwj1xp   \n",
              "3             2021.0            January  004001-0   cb9gct6j65r0   \n",
              "4             2021.0            January  004003-7   g15wg0gbz1fx   \n",
              "\n",
              "            brand                                   model      fuel    gear  \\\n",
              "0  GM - Chevrolet            Corsa Wind 1.0 MPFI / EFI 2p  Gasoline  manual   \n",
              "1  GM - Chevrolet            Corsa Wind 1.0 MPFI / EFI 2p  Gasoline  manual   \n",
              "2  GM - Chevrolet            Corsa Wind 1.0 MPFI / EFI 2p  Gasoline  manual   \n",
              "3  GM - Chevrolet            Corsa Wind 1.0 MPFI / EFI 2p   Alcohol  manual   \n",
              "4  GM - Chevrolet  Corsa Pick-Up GL/ Champ 1.6 MPFI / EFI  Gasoline  manual   \n",
              "\n",
              "  engine_size  year_model  avg_price_brl  \n",
              "0           1      2002.0         9162.0  \n",
              "1           1      2001.0         8832.0  \n",
              "2           1      2000.0         8388.0  \n",
              "3           1      2000.0         8453.0  \n",
              "4         1,6      2001.0        12525.0  "
            ],
            "text/html": [
              "\n",
              "  <div id=\"df-0d04f71e-d6c0-4480-80db-0f1b99d095bd\" class=\"colab-df-container\">\n",
              "    <div>\n",
              "<style scoped>\n",
              "    .dataframe tbody tr th:only-of-type {\n",
              "        vertical-align: middle;\n",
              "    }\n",
              "\n",
              "    .dataframe tbody tr th {\n",
              "        vertical-align: top;\n",
              "    }\n",
              "\n",
              "    .dataframe thead th {\n",
              "        text-align: right;\n",
              "    }\n",
              "</style>\n",
              "<table border=\"1\" class=\"dataframe\">\n",
              "  <thead>\n",
              "    <tr style=\"text-align: right;\">\n",
              "      <th></th>\n",
              "      <th>year_of_reference</th>\n",
              "      <th>month_of_reference</th>\n",
              "      <th>fipe_code</th>\n",
              "      <th>authentication</th>\n",
              "      <th>brand</th>\n",
              "      <th>model</th>\n",
              "      <th>fuel</th>\n",
              "      <th>gear</th>\n",
              "      <th>engine_size</th>\n",
              "      <th>year_model</th>\n",
              "      <th>avg_price_brl</th>\n",
              "    </tr>\n",
              "  </thead>\n",
              "  <tbody>\n",
              "    <tr>\n",
              "      <th>0</th>\n",
              "      <td>2021.0</td>\n",
              "      <td>January</td>\n",
              "      <td>004001-0</td>\n",
              "      <td>cfzlctzfwrcp</td>\n",
              "      <td>GM - Chevrolet</td>\n",
              "      <td>Corsa Wind 1.0 MPFI / EFI 2p</td>\n",
              "      <td>Gasoline</td>\n",
              "      <td>manual</td>\n",
              "      <td>1</td>\n",
              "      <td>2002.0</td>\n",
              "      <td>9162.0</td>\n",
              "    </tr>\n",
              "    <tr>\n",
              "      <th>1</th>\n",
              "      <td>2021.0</td>\n",
              "      <td>January</td>\n",
              "      <td>004001-0</td>\n",
              "      <td>cdqwxwpw3y2p</td>\n",
              "      <td>GM - Chevrolet</td>\n",
              "      <td>Corsa Wind 1.0 MPFI / EFI 2p</td>\n",
              "      <td>Gasoline</td>\n",
              "      <td>manual</td>\n",
              "      <td>1</td>\n",
              "      <td>2001.0</td>\n",
              "      <td>8832.0</td>\n",
              "    </tr>\n",
              "    <tr>\n",
              "      <th>2</th>\n",
              "      <td>2021.0</td>\n",
              "      <td>January</td>\n",
              "      <td>004001-0</td>\n",
              "      <td>cb1t3xwwj1xp</td>\n",
              "      <td>GM - Chevrolet</td>\n",
              "      <td>Corsa Wind 1.0 MPFI / EFI 2p</td>\n",
              "      <td>Gasoline</td>\n",
              "      <td>manual</td>\n",
              "      <td>1</td>\n",
              "      <td>2000.0</td>\n",
              "      <td>8388.0</td>\n",
              "    </tr>\n",
              "    <tr>\n",
              "      <th>3</th>\n",
              "      <td>2021.0</td>\n",
              "      <td>January</td>\n",
              "      <td>004001-0</td>\n",
              "      <td>cb9gct6j65r0</td>\n",
              "      <td>GM - Chevrolet</td>\n",
              "      <td>Corsa Wind 1.0 MPFI / EFI 2p</td>\n",
              "      <td>Alcohol</td>\n",
              "      <td>manual</td>\n",
              "      <td>1</td>\n",
              "      <td>2000.0</td>\n",
              "      <td>8453.0</td>\n",
              "    </tr>\n",
              "    <tr>\n",
              "      <th>4</th>\n",
              "      <td>2021.0</td>\n",
              "      <td>January</td>\n",
              "      <td>004003-7</td>\n",
              "      <td>g15wg0gbz1fx</td>\n",
              "      <td>GM - Chevrolet</td>\n",
              "      <td>Corsa Pick-Up GL/ Champ 1.6 MPFI / EFI</td>\n",
              "      <td>Gasoline</td>\n",
              "      <td>manual</td>\n",
              "      <td>1,6</td>\n",
              "      <td>2001.0</td>\n",
              "      <td>12525.0</td>\n",
              "    </tr>\n",
              "  </tbody>\n",
              "</table>\n",
              "</div>\n",
              "    <div class=\"colab-df-buttons\">\n",
              "\n",
              "  <div class=\"colab-df-container\">\n",
              "    <button class=\"colab-df-convert\" onclick=\"convertToInteractive('df-0d04f71e-d6c0-4480-80db-0f1b99d095bd')\"\n",
              "            title=\"Convert this dataframe to an interactive table.\"\n",
              "            style=\"display:none;\">\n",
              "\n",
              "  <svg xmlns=\"http://www.w3.org/2000/svg\" height=\"24px\" viewBox=\"0 -960 960 960\">\n",
              "    <path d=\"M120-120v-720h720v720H120Zm60-500h600v-160H180v160Zm220 220h160v-160H400v160Zm0 220h160v-160H400v160ZM180-400h160v-160H180v160Zm440 0h160v-160H620v160ZM180-180h160v-160H180v160Zm440 0h160v-160H620v160Z\"/>\n",
              "  </svg>\n",
              "    </button>\n",
              "\n",
              "  <style>\n",
              "    .colab-df-container {\n",
              "      display:flex;\n",
              "      gap: 12px;\n",
              "    }\n",
              "\n",
              "    .colab-df-convert {\n",
              "      background-color: #E8F0FE;\n",
              "      border: none;\n",
              "      border-radius: 50%;\n",
              "      cursor: pointer;\n",
              "      display: none;\n",
              "      fill: #1967D2;\n",
              "      height: 32px;\n",
              "      padding: 0 0 0 0;\n",
              "      width: 32px;\n",
              "    }\n",
              "\n",
              "    .colab-df-convert:hover {\n",
              "      background-color: #E2EBFA;\n",
              "      box-shadow: 0px 1px 2px rgba(60, 64, 67, 0.3), 0px 1px 3px 1px rgba(60, 64, 67, 0.15);\n",
              "      fill: #174EA6;\n",
              "    }\n",
              "\n",
              "    .colab-df-buttons div {\n",
              "      margin-bottom: 4px;\n",
              "    }\n",
              "\n",
              "    [theme=dark] .colab-df-convert {\n",
              "      background-color: #3B4455;\n",
              "      fill: #D2E3FC;\n",
              "    }\n",
              "\n",
              "    [theme=dark] .colab-df-convert:hover {\n",
              "      background-color: #434B5C;\n",
              "      box-shadow: 0px 1px 3px 1px rgba(0, 0, 0, 0.15);\n",
              "      filter: drop-shadow(0px 1px 2px rgba(0, 0, 0, 0.3));\n",
              "      fill: #FFFFFF;\n",
              "    }\n",
              "  </style>\n",
              "\n",
              "    <script>\n",
              "      const buttonEl =\n",
              "        document.querySelector('#df-0d04f71e-d6c0-4480-80db-0f1b99d095bd button.colab-df-convert');\n",
              "      buttonEl.style.display =\n",
              "        google.colab.kernel.accessAllowed ? 'block' : 'none';\n",
              "\n",
              "      async function convertToInteractive(key) {\n",
              "        const element = document.querySelector('#df-0d04f71e-d6c0-4480-80db-0f1b99d095bd');\n",
              "        const dataTable =\n",
              "          await google.colab.kernel.invokeFunction('convertToInteractive',\n",
              "                                                    [key], {});\n",
              "        if (!dataTable) return;\n",
              "\n",
              "        const docLinkHtml = 'Like what you see? Visit the ' +\n",
              "          '<a target=\"_blank\" href=https://colab.research.google.com/notebooks/data_table.ipynb>data table notebook</a>'\n",
              "          + ' to learn more about interactive tables.';\n",
              "        element.innerHTML = '';\n",
              "        dataTable['output_type'] = 'display_data';\n",
              "        await google.colab.output.renderOutput(dataTable, element);\n",
              "        const docLink = document.createElement('div');\n",
              "        docLink.innerHTML = docLinkHtml;\n",
              "        element.appendChild(docLink);\n",
              "      }\n",
              "    </script>\n",
              "  </div>\n",
              "\n",
              "\n",
              "<div id=\"df-7a93cdbc-9818-40b2-b010-71dd7679bb42\">\n",
              "  <button class=\"colab-df-quickchart\" onclick=\"quickchart('df-7a93cdbc-9818-40b2-b010-71dd7679bb42')\"\n",
              "            title=\"Suggest charts\"\n",
              "            style=\"display:none;\">\n",
              "\n",
              "<svg xmlns=\"http://www.w3.org/2000/svg\" height=\"24px\"viewBox=\"0 0 24 24\"\n",
              "     width=\"24px\">\n",
              "    <g>\n",
              "        <path d=\"M19 3H5c-1.1 0-2 .9-2 2v14c0 1.1.9 2 2 2h14c1.1 0 2-.9 2-2V5c0-1.1-.9-2-2-2zM9 17H7v-7h2v7zm4 0h-2V7h2v10zm4 0h-2v-4h2v4z\"/>\n",
              "    </g>\n",
              "</svg>\n",
              "  </button>\n",
              "\n",
              "<style>\n",
              "  .colab-df-quickchart {\n",
              "      --bg-color: #E8F0FE;\n",
              "      --fill-color: #1967D2;\n",
              "      --hover-bg-color: #E2EBFA;\n",
              "      --hover-fill-color: #174EA6;\n",
              "      --disabled-fill-color: #AAA;\n",
              "      --disabled-bg-color: #DDD;\n",
              "  }\n",
              "\n",
              "  [theme=dark] .colab-df-quickchart {\n",
              "      --bg-color: #3B4455;\n",
              "      --fill-color: #D2E3FC;\n",
              "      --hover-bg-color: #434B5C;\n",
              "      --hover-fill-color: #FFFFFF;\n",
              "      --disabled-bg-color: #3B4455;\n",
              "      --disabled-fill-color: #666;\n",
              "  }\n",
              "\n",
              "  .colab-df-quickchart {\n",
              "    background-color: var(--bg-color);\n",
              "    border: none;\n",
              "    border-radius: 50%;\n",
              "    cursor: pointer;\n",
              "    display: none;\n",
              "    fill: var(--fill-color);\n",
              "    height: 32px;\n",
              "    padding: 0;\n",
              "    width: 32px;\n",
              "  }\n",
              "\n",
              "  .colab-df-quickchart:hover {\n",
              "    background-color: var(--hover-bg-color);\n",
              "    box-shadow: 0 1px 2px rgba(60, 64, 67, 0.3), 0 1px 3px 1px rgba(60, 64, 67, 0.15);\n",
              "    fill: var(--button-hover-fill-color);\n",
              "  }\n",
              "\n",
              "  .colab-df-quickchart-complete:disabled,\n",
              "  .colab-df-quickchart-complete:disabled:hover {\n",
              "    background-color: var(--disabled-bg-color);\n",
              "    fill: var(--disabled-fill-color);\n",
              "    box-shadow: none;\n",
              "  }\n",
              "\n",
              "  .colab-df-spinner {\n",
              "    border: 2px solid var(--fill-color);\n",
              "    border-color: transparent;\n",
              "    border-bottom-color: var(--fill-color);\n",
              "    animation:\n",
              "      spin 1s steps(1) infinite;\n",
              "  }\n",
              "\n",
              "  @keyframes spin {\n",
              "    0% {\n",
              "      border-color: transparent;\n",
              "      border-bottom-color: var(--fill-color);\n",
              "      border-left-color: var(--fill-color);\n",
              "    }\n",
              "    20% {\n",
              "      border-color: transparent;\n",
              "      border-left-color: var(--fill-color);\n",
              "      border-top-color: var(--fill-color);\n",
              "    }\n",
              "    30% {\n",
              "      border-color: transparent;\n",
              "      border-left-color: var(--fill-color);\n",
              "      border-top-color: var(--fill-color);\n",
              "      border-right-color: var(--fill-color);\n",
              "    }\n",
              "    40% {\n",
              "      border-color: transparent;\n",
              "      border-right-color: var(--fill-color);\n",
              "      border-top-color: var(--fill-color);\n",
              "    }\n",
              "    60% {\n",
              "      border-color: transparent;\n",
              "      border-right-color: var(--fill-color);\n",
              "    }\n",
              "    80% {\n",
              "      border-color: transparent;\n",
              "      border-right-color: var(--fill-color);\n",
              "      border-bottom-color: var(--fill-color);\n",
              "    }\n",
              "    90% {\n",
              "      border-color: transparent;\n",
              "      border-bottom-color: var(--fill-color);\n",
              "    }\n",
              "  }\n",
              "</style>\n",
              "\n",
              "  <script>\n",
              "    async function quickchart(key) {\n",
              "      const quickchartButtonEl =\n",
              "        document.querySelector('#' + key + ' button');\n",
              "      quickchartButtonEl.disabled = true;  // To prevent multiple clicks.\n",
              "      quickchartButtonEl.classList.add('colab-df-spinner');\n",
              "      try {\n",
              "        const charts = await google.colab.kernel.invokeFunction(\n",
              "            'suggestCharts', [key], {});\n",
              "      } catch (error) {\n",
              "        console.error('Error during call to suggestCharts:', error);\n",
              "      }\n",
              "      quickchartButtonEl.classList.remove('colab-df-spinner');\n",
              "      quickchartButtonEl.classList.add('colab-df-quickchart-complete');\n",
              "    }\n",
              "    (() => {\n",
              "      let quickchartButtonEl =\n",
              "        document.querySelector('#df-7a93cdbc-9818-40b2-b010-71dd7679bb42 button');\n",
              "      quickchartButtonEl.style.display =\n",
              "        google.colab.kernel.accessAllowed ? 'block' : 'none';\n",
              "    })();\n",
              "  </script>\n",
              "</div>\n",
              "\n",
              "    </div>\n",
              "  </div>\n"
            ],
            "application/vnd.google.colaboratory.intrinsic+json": {
              "type": "dataframe",
              "variable_name": "data"
            }
          },
          "metadata": {},
          "execution_count": 3
        }
      ],
      "execution_count": 3
    },
    {
      "cell_type": "markdown",
      "id": "3e8b62ab",
      "metadata": {
        "id": "3e8b62ab"
      },
      "source": [
        "### **1.2 Tratamento de Valores Faltantes**\n",
        "Verificamos se há valores ausentes e aplicamos uma estratégia para tratá-los."
      ]
    },
    {
      "cell_type": "code",
      "id": "fb554a6e",
      "metadata": {
        "id": "fb554a6e",
        "outputId": "e12ca5b5-e709-4c29-a8f8-c251135c44ed",
        "colab": {
          "base_uri": "https://localhost:8080/",
          "height": 429
        }
      },
      "source": [
        "data.isna().any()"
      ],
      "outputs": [
        {
          "output_type": "execute_result",
          "data": {
            "text/plain": [
              "year_of_reference     True\n",
              "month_of_reference    True\n",
              "fipe_code             True\n",
              "authentication        True\n",
              "brand                 True\n",
              "model                 True\n",
              "fuel                  True\n",
              "gear                  True\n",
              "engine_size           True\n",
              "year_model            True\n",
              "avg_price_brl         True\n",
              "dtype: bool"
            ],
            "text/html": [
              "<div>\n",
              "<style scoped>\n",
              "    .dataframe tbody tr th:only-of-type {\n",
              "        vertical-align: middle;\n",
              "    }\n",
              "\n",
              "    .dataframe tbody tr th {\n",
              "        vertical-align: top;\n",
              "    }\n",
              "\n",
              "    .dataframe thead th {\n",
              "        text-align: right;\n",
              "    }\n",
              "</style>\n",
              "<table border=\"1\" class=\"dataframe\">\n",
              "  <thead>\n",
              "    <tr style=\"text-align: right;\">\n",
              "      <th></th>\n",
              "      <th>0</th>\n",
              "    </tr>\n",
              "  </thead>\n",
              "  <tbody>\n",
              "    <tr>\n",
              "      <th>year_of_reference</th>\n",
              "      <td>True</td>\n",
              "    </tr>\n",
              "    <tr>\n",
              "      <th>month_of_reference</th>\n",
              "      <td>True</td>\n",
              "    </tr>\n",
              "    <tr>\n",
              "      <th>fipe_code</th>\n",
              "      <td>True</td>\n",
              "    </tr>\n",
              "    <tr>\n",
              "      <th>authentication</th>\n",
              "      <td>True</td>\n",
              "    </tr>\n",
              "    <tr>\n",
              "      <th>brand</th>\n",
              "      <td>True</td>\n",
              "    </tr>\n",
              "    <tr>\n",
              "      <th>model</th>\n",
              "      <td>True</td>\n",
              "    </tr>\n",
              "    <tr>\n",
              "      <th>fuel</th>\n",
              "      <td>True</td>\n",
              "    </tr>\n",
              "    <tr>\n",
              "      <th>gear</th>\n",
              "      <td>True</td>\n",
              "    </tr>\n",
              "    <tr>\n",
              "      <th>engine_size</th>\n",
              "      <td>True</td>\n",
              "    </tr>\n",
              "    <tr>\n",
              "      <th>year_model</th>\n",
              "      <td>True</td>\n",
              "    </tr>\n",
              "    <tr>\n",
              "      <th>avg_price_brl</th>\n",
              "      <td>True</td>\n",
              "    </tr>\n",
              "  </tbody>\n",
              "</table>\n",
              "</div><br><label><b>dtype:</b> bool</label>"
            ]
          },
          "metadata": {},
          "execution_count": 4
        }
      ],
      "execution_count": 4
    },
    {
      "metadata": {
        "id": "22013a988806c4d0",
        "outputId": "25b58d51-f02b-4fa2-9d6d-a15cfb184059",
        "colab": {
          "base_uri": "https://localhost:8080/",
          "height": 429
        }
      },
      "cell_type": "code",
      "source": [
        "data.isna().sum()"
      ],
      "id": "22013a988806c4d0",
      "outputs": [
        {
          "output_type": "execute_result",
          "data": {
            "text/plain": [
              "year_of_reference     65245\n",
              "month_of_reference    65245\n",
              "fipe_code             65245\n",
              "authentication        65245\n",
              "brand                 65245\n",
              "model                 65245\n",
              "fuel                  65245\n",
              "gear                  65245\n",
              "engine_size           65245\n",
              "year_model            65245\n",
              "avg_price_brl         65245\n",
              "dtype: int64"
            ],
            "text/html": [
              "<div>\n",
              "<style scoped>\n",
              "    .dataframe tbody tr th:only-of-type {\n",
              "        vertical-align: middle;\n",
              "    }\n",
              "\n",
              "    .dataframe tbody tr th {\n",
              "        vertical-align: top;\n",
              "    }\n",
              "\n",
              "    .dataframe thead th {\n",
              "        text-align: right;\n",
              "    }\n",
              "</style>\n",
              "<table border=\"1\" class=\"dataframe\">\n",
              "  <thead>\n",
              "    <tr style=\"text-align: right;\">\n",
              "      <th></th>\n",
              "      <th>0</th>\n",
              "    </tr>\n",
              "  </thead>\n",
              "  <tbody>\n",
              "    <tr>\n",
              "      <th>year_of_reference</th>\n",
              "      <td>65245</td>\n",
              "    </tr>\n",
              "    <tr>\n",
              "      <th>month_of_reference</th>\n",
              "      <td>65245</td>\n",
              "    </tr>\n",
              "    <tr>\n",
              "      <th>fipe_code</th>\n",
              "      <td>65245</td>\n",
              "    </tr>\n",
              "    <tr>\n",
              "      <th>authentication</th>\n",
              "      <td>65245</td>\n",
              "    </tr>\n",
              "    <tr>\n",
              "      <th>brand</th>\n",
              "      <td>65245</td>\n",
              "    </tr>\n",
              "    <tr>\n",
              "      <th>model</th>\n",
              "      <td>65245</td>\n",
              "    </tr>\n",
              "    <tr>\n",
              "      <th>fuel</th>\n",
              "      <td>65245</td>\n",
              "    </tr>\n",
              "    <tr>\n",
              "      <th>gear</th>\n",
              "      <td>65245</td>\n",
              "    </tr>\n",
              "    <tr>\n",
              "      <th>engine_size</th>\n",
              "      <td>65245</td>\n",
              "    </tr>\n",
              "    <tr>\n",
              "      <th>year_model</th>\n",
              "      <td>65245</td>\n",
              "    </tr>\n",
              "    <tr>\n",
              "      <th>avg_price_brl</th>\n",
              "      <td>65245</td>\n",
              "    </tr>\n",
              "  </tbody>\n",
              "</table>\n",
              "</div><br><label><b>dtype:</b> int64</label>"
            ]
          },
          "metadata": {},
          "execution_count": 5
        }
      ],
      "execution_count": 5
    },
    {
      "metadata": {
        "ExecuteTime": {
          "end_time": "2025-02-21T22:05:17.766617Z",
          "start_time": "2025-02-21T22:05:17.684700Z"
        },
        "id": "8c6df138a87f5f26"
      },
      "cell_type": "code",
      "source": [
        "data.dropna(inplace=True)"
      ],
      "id": "8c6df138a87f5f26",
      "outputs": [],
      "execution_count": 6
    },
    {
      "cell_type": "markdown",
      "id": "02f3e2bb",
      "metadata": {
        "id": "02f3e2bb"
      },
      "source": [
        "### **1.3 Identificação de Dados Duplicados**\n",
        "Detectamos e removemos, se necessário, registros duplicados."
      ]
    },
    {
      "metadata": {
        "id": "22b5b47d0bed4e45",
        "outputId": "e126e728-3e76-4724-ee76-00af67ae409b",
        "colab": {
          "base_uri": "https://localhost:8080/"
        }
      },
      "cell_type": "code",
      "source": [
        "data.duplicated().sum()"
      ],
      "id": "22b5b47d0bed4e45",
      "outputs": [
        {
          "output_type": "execute_result",
          "data": {
            "text/plain": [
              "2"
            ]
          },
          "metadata": {},
          "execution_count": 7
        }
      ],
      "execution_count": 7
    },
    {
      "metadata": {
        "id": "b01ad57775aa6a85",
        "outputId": "bc44cf07-e360-4bb4-baf2-96aaafb05331",
        "colab": {
          "base_uri": "https://localhost:8080/",
          "height": 53
        }
      },
      "cell_type": "code",
      "source": [
        "data[data.duplicated()]"
      ],
      "id": "b01ad57775aa6a85",
      "outputs": [
        {
          "output_type": "execute_result",
          "data": {
            "text/plain": [
              "Empty DataFrame\n",
              "Columns: [year_of_reference, month_of_reference, fipe_code, authentication, brand, model, fuel, gear, engine_size, year_model, avg_price_brl]\n",
              "Index: []"
            ],
            "text/html": [
              "\n",
              "  <div id=\"df-94a95f59-7a39-471a-ac19-e20322259fb4\" class=\"colab-df-container\">\n",
              "    <div>\n",
              "<style scoped>\n",
              "    .dataframe tbody tr th:only-of-type {\n",
              "        vertical-align: middle;\n",
              "    }\n",
              "\n",
              "    .dataframe tbody tr th {\n",
              "        vertical-align: top;\n",
              "    }\n",
              "\n",
              "    .dataframe thead th {\n",
              "        text-align: right;\n",
              "    }\n",
              "</style>\n",
              "<table border=\"1\" class=\"dataframe\">\n",
              "  <thead>\n",
              "    <tr style=\"text-align: right;\">\n",
              "      <th></th>\n",
              "      <th>year_of_reference</th>\n",
              "      <th>month_of_reference</th>\n",
              "      <th>fipe_code</th>\n",
              "      <th>authentication</th>\n",
              "      <th>brand</th>\n",
              "      <th>model</th>\n",
              "      <th>fuel</th>\n",
              "      <th>gear</th>\n",
              "      <th>engine_size</th>\n",
              "      <th>year_model</th>\n",
              "      <th>avg_price_brl</th>\n",
              "    </tr>\n",
              "  </thead>\n",
              "  <tbody>\n",
              "  </tbody>\n",
              "</table>\n",
              "</div>\n",
              "    <div class=\"colab-df-buttons\">\n",
              "\n",
              "  <div class=\"colab-df-container\">\n",
              "    <button class=\"colab-df-convert\" onclick=\"convertToInteractive('df-94a95f59-7a39-471a-ac19-e20322259fb4')\"\n",
              "            title=\"Convert this dataframe to an interactive table.\"\n",
              "            style=\"display:none;\">\n",
              "\n",
              "  <svg xmlns=\"http://www.w3.org/2000/svg\" height=\"24px\" viewBox=\"0 -960 960 960\">\n",
              "    <path d=\"M120-120v-720h720v720H120Zm60-500h600v-160H180v160Zm220 220h160v-160H400v160Zm0 220h160v-160H400v160ZM180-400h160v-160H180v160Zm440 0h160v-160H620v160ZM180-180h160v-160H180v160Zm440 0h160v-160H620v160Z\"/>\n",
              "  </svg>\n",
              "    </button>\n",
              "\n",
              "  <style>\n",
              "    .colab-df-container {\n",
              "      display:flex;\n",
              "      gap: 12px;\n",
              "    }\n",
              "\n",
              "    .colab-df-convert {\n",
              "      background-color: #E8F0FE;\n",
              "      border: none;\n",
              "      border-radius: 50%;\n",
              "      cursor: pointer;\n",
              "      display: none;\n",
              "      fill: #1967D2;\n",
              "      height: 32px;\n",
              "      padding: 0 0 0 0;\n",
              "      width: 32px;\n",
              "    }\n",
              "\n",
              "    .colab-df-convert:hover {\n",
              "      background-color: #E2EBFA;\n",
              "      box-shadow: 0px 1px 2px rgba(60, 64, 67, 0.3), 0px 1px 3px 1px rgba(60, 64, 67, 0.15);\n",
              "      fill: #174EA6;\n",
              "    }\n",
              "\n",
              "    .colab-df-buttons div {\n",
              "      margin-bottom: 4px;\n",
              "    }\n",
              "\n",
              "    [theme=dark] .colab-df-convert {\n",
              "      background-color: #3B4455;\n",
              "      fill: #D2E3FC;\n",
              "    }\n",
              "\n",
              "    [theme=dark] .colab-df-convert:hover {\n",
              "      background-color: #434B5C;\n",
              "      box-shadow: 0px 1px 3px 1px rgba(0, 0, 0, 0.15);\n",
              "      filter: drop-shadow(0px 1px 2px rgba(0, 0, 0, 0.3));\n",
              "      fill: #FFFFFF;\n",
              "    }\n",
              "  </style>\n",
              "\n",
              "    <script>\n",
              "      const buttonEl =\n",
              "        document.querySelector('#df-94a95f59-7a39-471a-ac19-e20322259fb4 button.colab-df-convert');\n",
              "      buttonEl.style.display =\n",
              "        google.colab.kernel.accessAllowed ? 'block' : 'none';\n",
              "\n",
              "      async function convertToInteractive(key) {\n",
              "        const element = document.querySelector('#df-94a95f59-7a39-471a-ac19-e20322259fb4');\n",
              "        const dataTable =\n",
              "          await google.colab.kernel.invokeFunction('convertToInteractive',\n",
              "                                                    [key], {});\n",
              "        if (!dataTable) return;\n",
              "\n",
              "        const docLinkHtml = 'Like what you see? Visit the ' +\n",
              "          '<a target=\"_blank\" href=https://colab.research.google.com/notebooks/data_table.ipynb>data table notebook</a>'\n",
              "          + ' to learn more about interactive tables.';\n",
              "        element.innerHTML = '';\n",
              "        dataTable['output_type'] = 'display_data';\n",
              "        await google.colab.output.renderOutput(dataTable, element);\n",
              "        const docLink = document.createElement('div');\n",
              "        docLink.innerHTML = docLinkHtml;\n",
              "        element.appendChild(docLink);\n",
              "      }\n",
              "    </script>\n",
              "  </div>\n",
              "\n",
              "\n",
              "    </div>\n",
              "  </div>\n"
            ],
            "application/vnd.google.colaboratory.intrinsic+json": {
              "type": "dataframe",
              "repr_error": "Out of range float values are not JSON compliant: nan"
            }
          },
          "metadata": {},
          "execution_count": 10
        }
      ],
      "execution_count": 10
    },
    {
      "metadata": {
        "ExecuteTime": {
          "end_time": "2025-02-21T22:05:19.745410Z",
          "start_time": "2025-02-21T22:05:19.591230Z"
        },
        "id": "7046f58d6dceb88e"
      },
      "cell_type": "code",
      "source": [
        "data.drop_duplicates(inplace=True)"
      ],
      "id": "7046f58d6dceb88e",
      "outputs": [],
      "execution_count": 9
    },
    {
      "cell_type": "markdown",
      "id": "cd000704",
      "metadata": {
        "id": "cd000704"
      },
      "source": [
        "### **1.4 Classificação de Variáveis**\n",
        "Separamos as colunas entre numéricas e categóricas e geramos estatísticas descritivas."
      ]
    },
    {
      "metadata": {
        "id": "166bd8d39f0284ff"
      },
      "cell_type": "code",
      "source": [
        "numericas = data.select_dtypes(include=['float64', 'int64'])\n",
        "categoricas = data.select_dtypes(include=['object'])"
      ],
      "id": "166bd8d39f0284ff",
      "outputs": [],
      "execution_count": 11
    },
    {
      "metadata": {
        "id": "74f23b1a3e1ae7c4",
        "outputId": "489f7ac9-4121-4a74-8675-e17380753975",
        "colab": {
          "base_uri": "https://localhost:8080/",
          "height": 300
        }
      },
      "cell_type": "code",
      "source": [
        "numericas.describe()"
      ],
      "id": "74f23b1a3e1ae7c4",
      "outputs": [
        {
          "output_type": "execute_result",
          "data": {
            "text/plain": [
              "       year_of_reference     year_model  avg_price_brl\n",
              "count      202295.000000  202295.000000  202295.000000\n",
              "mean         2021.564695    2011.271514   52756.765713\n",
              "std             0.571904       6.376241   51628.912116\n",
              "min          2021.000000    2000.000000    6647.000000\n",
              "25%          2021.000000    2006.000000   22855.000000\n",
              "50%          2022.000000    2012.000000   38027.000000\n",
              "75%          2022.000000    2016.000000   64064.000000\n",
              "max          2023.000000    2023.000000  979358.000000"
            ],
            "text/html": [
              "\n",
              "  <div id=\"df-5e019c42-e9b8-49fa-88e1-d02128d64935\" class=\"colab-df-container\">\n",
              "    <div>\n",
              "<style scoped>\n",
              "    .dataframe tbody tr th:only-of-type {\n",
              "        vertical-align: middle;\n",
              "    }\n",
              "\n",
              "    .dataframe tbody tr th {\n",
              "        vertical-align: top;\n",
              "    }\n",
              "\n",
              "    .dataframe thead th {\n",
              "        text-align: right;\n",
              "    }\n",
              "</style>\n",
              "<table border=\"1\" class=\"dataframe\">\n",
              "  <thead>\n",
              "    <tr style=\"text-align: right;\">\n",
              "      <th></th>\n",
              "      <th>year_of_reference</th>\n",
              "      <th>year_model</th>\n",
              "      <th>avg_price_brl</th>\n",
              "    </tr>\n",
              "  </thead>\n",
              "  <tbody>\n",
              "    <tr>\n",
              "      <th>count</th>\n",
              "      <td>202295.000000</td>\n",
              "      <td>202295.000000</td>\n",
              "      <td>202295.000000</td>\n",
              "    </tr>\n",
              "    <tr>\n",
              "      <th>mean</th>\n",
              "      <td>2021.564695</td>\n",
              "      <td>2011.271514</td>\n",
              "      <td>52756.765713</td>\n",
              "    </tr>\n",
              "    <tr>\n",
              "      <th>std</th>\n",
              "      <td>0.571904</td>\n",
              "      <td>6.376241</td>\n",
              "      <td>51628.912116</td>\n",
              "    </tr>\n",
              "    <tr>\n",
              "      <th>min</th>\n",
              "      <td>2021.000000</td>\n",
              "      <td>2000.000000</td>\n",
              "      <td>6647.000000</td>\n",
              "    </tr>\n",
              "    <tr>\n",
              "      <th>25%</th>\n",
              "      <td>2021.000000</td>\n",
              "      <td>2006.000000</td>\n",
              "      <td>22855.000000</td>\n",
              "    </tr>\n",
              "    <tr>\n",
              "      <th>50%</th>\n",
              "      <td>2022.000000</td>\n",
              "      <td>2012.000000</td>\n",
              "      <td>38027.000000</td>\n",
              "    </tr>\n",
              "    <tr>\n",
              "      <th>75%</th>\n",
              "      <td>2022.000000</td>\n",
              "      <td>2016.000000</td>\n",
              "      <td>64064.000000</td>\n",
              "    </tr>\n",
              "    <tr>\n",
              "      <th>max</th>\n",
              "      <td>2023.000000</td>\n",
              "      <td>2023.000000</td>\n",
              "      <td>979358.000000</td>\n",
              "    </tr>\n",
              "  </tbody>\n",
              "</table>\n",
              "</div>\n",
              "    <div class=\"colab-df-buttons\">\n",
              "\n",
              "  <div class=\"colab-df-container\">\n",
              "    <button class=\"colab-df-convert\" onclick=\"convertToInteractive('df-5e019c42-e9b8-49fa-88e1-d02128d64935')\"\n",
              "            title=\"Convert this dataframe to an interactive table.\"\n",
              "            style=\"display:none;\">\n",
              "\n",
              "  <svg xmlns=\"http://www.w3.org/2000/svg\" height=\"24px\" viewBox=\"0 -960 960 960\">\n",
              "    <path d=\"M120-120v-720h720v720H120Zm60-500h600v-160H180v160Zm220 220h160v-160H400v160Zm0 220h160v-160H400v160ZM180-400h160v-160H180v160Zm440 0h160v-160H620v160ZM180-180h160v-160H180v160Zm440 0h160v-160H620v160Z\"/>\n",
              "  </svg>\n",
              "    </button>\n",
              "\n",
              "  <style>\n",
              "    .colab-df-container {\n",
              "      display:flex;\n",
              "      gap: 12px;\n",
              "    }\n",
              "\n",
              "    .colab-df-convert {\n",
              "      background-color: #E8F0FE;\n",
              "      border: none;\n",
              "      border-radius: 50%;\n",
              "      cursor: pointer;\n",
              "      display: none;\n",
              "      fill: #1967D2;\n",
              "      height: 32px;\n",
              "      padding: 0 0 0 0;\n",
              "      width: 32px;\n",
              "    }\n",
              "\n",
              "    .colab-df-convert:hover {\n",
              "      background-color: #E2EBFA;\n",
              "      box-shadow: 0px 1px 2px rgba(60, 64, 67, 0.3), 0px 1px 3px 1px rgba(60, 64, 67, 0.15);\n",
              "      fill: #174EA6;\n",
              "    }\n",
              "\n",
              "    .colab-df-buttons div {\n",
              "      margin-bottom: 4px;\n",
              "    }\n",
              "\n",
              "    [theme=dark] .colab-df-convert {\n",
              "      background-color: #3B4455;\n",
              "      fill: #D2E3FC;\n",
              "    }\n",
              "\n",
              "    [theme=dark] .colab-df-convert:hover {\n",
              "      background-color: #434B5C;\n",
              "      box-shadow: 0px 1px 3px 1px rgba(0, 0, 0, 0.15);\n",
              "      filter: drop-shadow(0px 1px 2px rgba(0, 0, 0, 0.3));\n",
              "      fill: #FFFFFF;\n",
              "    }\n",
              "  </style>\n",
              "\n",
              "    <script>\n",
              "      const buttonEl =\n",
              "        document.querySelector('#df-5e019c42-e9b8-49fa-88e1-d02128d64935 button.colab-df-convert');\n",
              "      buttonEl.style.display =\n",
              "        google.colab.kernel.accessAllowed ? 'block' : 'none';\n",
              "\n",
              "      async function convertToInteractive(key) {\n",
              "        const element = document.querySelector('#df-5e019c42-e9b8-49fa-88e1-d02128d64935');\n",
              "        const dataTable =\n",
              "          await google.colab.kernel.invokeFunction('convertToInteractive',\n",
              "                                                    [key], {});\n",
              "        if (!dataTable) return;\n",
              "\n",
              "        const docLinkHtml = 'Like what you see? Visit the ' +\n",
              "          '<a target=\"_blank\" href=https://colab.research.google.com/notebooks/data_table.ipynb>data table notebook</a>'\n",
              "          + ' to learn more about interactive tables.';\n",
              "        element.innerHTML = '';\n",
              "        dataTable['output_type'] = 'display_data';\n",
              "        await google.colab.output.renderOutput(dataTable, element);\n",
              "        const docLink = document.createElement('div');\n",
              "        docLink.innerHTML = docLinkHtml;\n",
              "        element.appendChild(docLink);\n",
              "      }\n",
              "    </script>\n",
              "  </div>\n",
              "\n",
              "\n",
              "<div id=\"df-0ce6b4e2-bddd-4c12-a7bf-0b1744bdbdce\">\n",
              "  <button class=\"colab-df-quickchart\" onclick=\"quickchart('df-0ce6b4e2-bddd-4c12-a7bf-0b1744bdbdce')\"\n",
              "            title=\"Suggest charts\"\n",
              "            style=\"display:none;\">\n",
              "\n",
              "<svg xmlns=\"http://www.w3.org/2000/svg\" height=\"24px\"viewBox=\"0 0 24 24\"\n",
              "     width=\"24px\">\n",
              "    <g>\n",
              "        <path d=\"M19 3H5c-1.1 0-2 .9-2 2v14c0 1.1.9 2 2 2h14c1.1 0 2-.9 2-2V5c0-1.1-.9-2-2-2zM9 17H7v-7h2v7zm4 0h-2V7h2v10zm4 0h-2v-4h2v4z\"/>\n",
              "    </g>\n",
              "</svg>\n",
              "  </button>\n",
              "\n",
              "<style>\n",
              "  .colab-df-quickchart {\n",
              "      --bg-color: #E8F0FE;\n",
              "      --fill-color: #1967D2;\n",
              "      --hover-bg-color: #E2EBFA;\n",
              "      --hover-fill-color: #174EA6;\n",
              "      --disabled-fill-color: #AAA;\n",
              "      --disabled-bg-color: #DDD;\n",
              "  }\n",
              "\n",
              "  [theme=dark] .colab-df-quickchart {\n",
              "      --bg-color: #3B4455;\n",
              "      --fill-color: #D2E3FC;\n",
              "      --hover-bg-color: #434B5C;\n",
              "      --hover-fill-color: #FFFFFF;\n",
              "      --disabled-bg-color: #3B4455;\n",
              "      --disabled-fill-color: #666;\n",
              "  }\n",
              "\n",
              "  .colab-df-quickchart {\n",
              "    background-color: var(--bg-color);\n",
              "    border: none;\n",
              "    border-radius: 50%;\n",
              "    cursor: pointer;\n",
              "    display: none;\n",
              "    fill: var(--fill-color);\n",
              "    height: 32px;\n",
              "    padding: 0;\n",
              "    width: 32px;\n",
              "  }\n",
              "\n",
              "  .colab-df-quickchart:hover {\n",
              "    background-color: var(--hover-bg-color);\n",
              "    box-shadow: 0 1px 2px rgba(60, 64, 67, 0.3), 0 1px 3px 1px rgba(60, 64, 67, 0.15);\n",
              "    fill: var(--button-hover-fill-color);\n",
              "  }\n",
              "\n",
              "  .colab-df-quickchart-complete:disabled,\n",
              "  .colab-df-quickchart-complete:disabled:hover {\n",
              "    background-color: var(--disabled-bg-color);\n",
              "    fill: var(--disabled-fill-color);\n",
              "    box-shadow: none;\n",
              "  }\n",
              "\n",
              "  .colab-df-spinner {\n",
              "    border: 2px solid var(--fill-color);\n",
              "    border-color: transparent;\n",
              "    border-bottom-color: var(--fill-color);\n",
              "    animation:\n",
              "      spin 1s steps(1) infinite;\n",
              "  }\n",
              "\n",
              "  @keyframes spin {\n",
              "    0% {\n",
              "      border-color: transparent;\n",
              "      border-bottom-color: var(--fill-color);\n",
              "      border-left-color: var(--fill-color);\n",
              "    }\n",
              "    20% {\n",
              "      border-color: transparent;\n",
              "      border-left-color: var(--fill-color);\n",
              "      border-top-color: var(--fill-color);\n",
              "    }\n",
              "    30% {\n",
              "      border-color: transparent;\n",
              "      border-left-color: var(--fill-color);\n",
              "      border-top-color: var(--fill-color);\n",
              "      border-right-color: var(--fill-color);\n",
              "    }\n",
              "    40% {\n",
              "      border-color: transparent;\n",
              "      border-right-color: var(--fill-color);\n",
              "      border-top-color: var(--fill-color);\n",
              "    }\n",
              "    60% {\n",
              "      border-color: transparent;\n",
              "      border-right-color: var(--fill-color);\n",
              "    }\n",
              "    80% {\n",
              "      border-color: transparent;\n",
              "      border-right-color: var(--fill-color);\n",
              "      border-bottom-color: var(--fill-color);\n",
              "    }\n",
              "    90% {\n",
              "      border-color: transparent;\n",
              "      border-bottom-color: var(--fill-color);\n",
              "    }\n",
              "  }\n",
              "</style>\n",
              "\n",
              "  <script>\n",
              "    async function quickchart(key) {\n",
              "      const quickchartButtonEl =\n",
              "        document.querySelector('#' + key + ' button');\n",
              "      quickchartButtonEl.disabled = true;  // To prevent multiple clicks.\n",
              "      quickchartButtonEl.classList.add('colab-df-spinner');\n",
              "      try {\n",
              "        const charts = await google.colab.kernel.invokeFunction(\n",
              "            'suggestCharts', [key], {});\n",
              "      } catch (error) {\n",
              "        console.error('Error during call to suggestCharts:', error);\n",
              "      }\n",
              "      quickchartButtonEl.classList.remove('colab-df-spinner');\n",
              "      quickchartButtonEl.classList.add('colab-df-quickchart-complete');\n",
              "    }\n",
              "    (() => {\n",
              "      let quickchartButtonEl =\n",
              "        document.querySelector('#df-0ce6b4e2-bddd-4c12-a7bf-0b1744bdbdce button');\n",
              "      quickchartButtonEl.style.display =\n",
              "        google.colab.kernel.accessAllowed ? 'block' : 'none';\n",
              "    })();\n",
              "  </script>\n",
              "</div>\n",
              "\n",
              "    </div>\n",
              "  </div>\n"
            ],
            "application/vnd.google.colaboratory.intrinsic+json": {
              "type": "dataframe",
              "summary": "{\n  \"name\": \"numericas\",\n  \"rows\": 8,\n  \"fields\": [\n    {\n      \"column\": \"year_of_reference\",\n      \"properties\": {\n        \"dtype\": \"number\",\n        \"std\": 70912.89538285873,\n        \"min\": 0.5719035995762005,\n        \"max\": 202295.0,\n        \"num_unique_values\": 6,\n        \"samples\": [\n          202295.0,\n          2021.5646951234583,\n          2023.0\n        ],\n        \"semantic_type\": \"\",\n        \"description\": \"\"\n      }\n    },\n    {\n      \"column\": \"year_model\",\n      \"properties\": {\n        \"dtype\": \"number\",\n        \"std\": 70915.6924090001,\n        \"min\": 6.37624063131403,\n        \"max\": 202295.0,\n        \"num_unique_values\": 8,\n        \"samples\": [\n          2011.2715143725748,\n          2012.0,\n          202295.0\n        ],\n        \"semantic_type\": \"\",\n        \"description\": \"\"\n      }\n    },\n    {\n      \"column\": \"avg_price_brl\",\n      \"properties\": {\n        \"dtype\": \"number\",\n        \"std\": 329593.0425311853,\n        \"min\": 6647.0,\n        \"max\": 979358.0,\n        \"num_unique_values\": 8,\n        \"samples\": [\n          52756.7657134383,\n          38027.0,\n          202295.0\n        ],\n        \"semantic_type\": \"\",\n        \"description\": \"\"\n      }\n    }\n  ]\n}"
            }
          },
          "metadata": {},
          "execution_count": 12
        }
      ],
      "execution_count": 12
    },
    {
      "metadata": {
        "id": "ba9e0e238887e19",
        "outputId": "30e4c842-d7a9-4239-89e2-8a5540cf9ee9",
        "colab": {
          "base_uri": "https://localhost:8080/",
          "height": 175
        }
      },
      "cell_type": "code",
      "source": [
        "categoricas.describe()"
      ],
      "id": "ba9e0e238887e19",
      "outputs": [
        {
          "output_type": "execute_result",
          "data": {
            "text/plain": [
              "       month_of_reference fipe_code authentication   brand  \\\n",
              "count              202295    202295         202295  202295   \n",
              "unique                 12      2091         202295       6   \n",
              "top               January  003281-6   cfzlctzfwrcp    Fiat   \n",
              "freq                24260       425              1   44962   \n",
              "\n",
              "                                         model      fuel    gear engine_size  \n",
              "count                                   202295    202295  202295      202295  \n",
              "unique                                    2112         3       2          29  \n",
              "top     Palio Week. Adv/Adv TRYON 1.8 mpi Flex  Gasoline  manual         1,6  \n",
              "freq                                       425    168684  161883       47420  "
            ],
            "text/html": [
              "\n",
              "  <div id=\"df-37fc0a7d-5692-47de-964c-09bfb3f32378\" class=\"colab-df-container\">\n",
              "    <div>\n",
              "<style scoped>\n",
              "    .dataframe tbody tr th:only-of-type {\n",
              "        vertical-align: middle;\n",
              "    }\n",
              "\n",
              "    .dataframe tbody tr th {\n",
              "        vertical-align: top;\n",
              "    }\n",
              "\n",
              "    .dataframe thead th {\n",
              "        text-align: right;\n",
              "    }\n",
              "</style>\n",
              "<table border=\"1\" class=\"dataframe\">\n",
              "  <thead>\n",
              "    <tr style=\"text-align: right;\">\n",
              "      <th></th>\n",
              "      <th>month_of_reference</th>\n",
              "      <th>fipe_code</th>\n",
              "      <th>authentication</th>\n",
              "      <th>brand</th>\n",
              "      <th>model</th>\n",
              "      <th>fuel</th>\n",
              "      <th>gear</th>\n",
              "      <th>engine_size</th>\n",
              "    </tr>\n",
              "  </thead>\n",
              "  <tbody>\n",
              "    <tr>\n",
              "      <th>count</th>\n",
              "      <td>202295</td>\n",
              "      <td>202295</td>\n",
              "      <td>202295</td>\n",
              "      <td>202295</td>\n",
              "      <td>202295</td>\n",
              "      <td>202295</td>\n",
              "      <td>202295</td>\n",
              "      <td>202295</td>\n",
              "    </tr>\n",
              "    <tr>\n",
              "      <th>unique</th>\n",
              "      <td>12</td>\n",
              "      <td>2091</td>\n",
              "      <td>202295</td>\n",
              "      <td>6</td>\n",
              "      <td>2112</td>\n",
              "      <td>3</td>\n",
              "      <td>2</td>\n",
              "      <td>29</td>\n",
              "    </tr>\n",
              "    <tr>\n",
              "      <th>top</th>\n",
              "      <td>January</td>\n",
              "      <td>003281-6</td>\n",
              "      <td>cfzlctzfwrcp</td>\n",
              "      <td>Fiat</td>\n",
              "      <td>Palio Week. Adv/Adv TRYON 1.8 mpi Flex</td>\n",
              "      <td>Gasoline</td>\n",
              "      <td>manual</td>\n",
              "      <td>1,6</td>\n",
              "    </tr>\n",
              "    <tr>\n",
              "      <th>freq</th>\n",
              "      <td>24260</td>\n",
              "      <td>425</td>\n",
              "      <td>1</td>\n",
              "      <td>44962</td>\n",
              "      <td>425</td>\n",
              "      <td>168684</td>\n",
              "      <td>161883</td>\n",
              "      <td>47420</td>\n",
              "    </tr>\n",
              "  </tbody>\n",
              "</table>\n",
              "</div>\n",
              "    <div class=\"colab-df-buttons\">\n",
              "\n",
              "  <div class=\"colab-df-container\">\n",
              "    <button class=\"colab-df-convert\" onclick=\"convertToInteractive('df-37fc0a7d-5692-47de-964c-09bfb3f32378')\"\n",
              "            title=\"Convert this dataframe to an interactive table.\"\n",
              "            style=\"display:none;\">\n",
              "\n",
              "  <svg xmlns=\"http://www.w3.org/2000/svg\" height=\"24px\" viewBox=\"0 -960 960 960\">\n",
              "    <path d=\"M120-120v-720h720v720H120Zm60-500h600v-160H180v160Zm220 220h160v-160H400v160Zm0 220h160v-160H400v160ZM180-400h160v-160H180v160Zm440 0h160v-160H620v160ZM180-180h160v-160H180v160Zm440 0h160v-160H620v160Z\"/>\n",
              "  </svg>\n",
              "    </button>\n",
              "\n",
              "  <style>\n",
              "    .colab-df-container {\n",
              "      display:flex;\n",
              "      gap: 12px;\n",
              "    }\n",
              "\n",
              "    .colab-df-convert {\n",
              "      background-color: #E8F0FE;\n",
              "      border: none;\n",
              "      border-radius: 50%;\n",
              "      cursor: pointer;\n",
              "      display: none;\n",
              "      fill: #1967D2;\n",
              "      height: 32px;\n",
              "      padding: 0 0 0 0;\n",
              "      width: 32px;\n",
              "    }\n",
              "\n",
              "    .colab-df-convert:hover {\n",
              "      background-color: #E2EBFA;\n",
              "      box-shadow: 0px 1px 2px rgba(60, 64, 67, 0.3), 0px 1px 3px 1px rgba(60, 64, 67, 0.15);\n",
              "      fill: #174EA6;\n",
              "    }\n",
              "\n",
              "    .colab-df-buttons div {\n",
              "      margin-bottom: 4px;\n",
              "    }\n",
              "\n",
              "    [theme=dark] .colab-df-convert {\n",
              "      background-color: #3B4455;\n",
              "      fill: #D2E3FC;\n",
              "    }\n",
              "\n",
              "    [theme=dark] .colab-df-convert:hover {\n",
              "      background-color: #434B5C;\n",
              "      box-shadow: 0px 1px 3px 1px rgba(0, 0, 0, 0.15);\n",
              "      filter: drop-shadow(0px 1px 2px rgba(0, 0, 0, 0.3));\n",
              "      fill: #FFFFFF;\n",
              "    }\n",
              "  </style>\n",
              "\n",
              "    <script>\n",
              "      const buttonEl =\n",
              "        document.querySelector('#df-37fc0a7d-5692-47de-964c-09bfb3f32378 button.colab-df-convert');\n",
              "      buttonEl.style.display =\n",
              "        google.colab.kernel.accessAllowed ? 'block' : 'none';\n",
              "\n",
              "      async function convertToInteractive(key) {\n",
              "        const element = document.querySelector('#df-37fc0a7d-5692-47de-964c-09bfb3f32378');\n",
              "        const dataTable =\n",
              "          await google.colab.kernel.invokeFunction('convertToInteractive',\n",
              "                                                    [key], {});\n",
              "        if (!dataTable) return;\n",
              "\n",
              "        const docLinkHtml = 'Like what you see? Visit the ' +\n",
              "          '<a target=\"_blank\" href=https://colab.research.google.com/notebooks/data_table.ipynb>data table notebook</a>'\n",
              "          + ' to learn more about interactive tables.';\n",
              "        element.innerHTML = '';\n",
              "        dataTable['output_type'] = 'display_data';\n",
              "        await google.colab.output.renderOutput(dataTable, element);\n",
              "        const docLink = document.createElement('div');\n",
              "        docLink.innerHTML = docLinkHtml;\n",
              "        element.appendChild(docLink);\n",
              "      }\n",
              "    </script>\n",
              "  </div>\n",
              "\n",
              "\n",
              "<div id=\"df-fc902fe0-4c1b-4498-9130-28019bd82b44\">\n",
              "  <button class=\"colab-df-quickchart\" onclick=\"quickchart('df-fc902fe0-4c1b-4498-9130-28019bd82b44')\"\n",
              "            title=\"Suggest charts\"\n",
              "            style=\"display:none;\">\n",
              "\n",
              "<svg xmlns=\"http://www.w3.org/2000/svg\" height=\"24px\"viewBox=\"0 0 24 24\"\n",
              "     width=\"24px\">\n",
              "    <g>\n",
              "        <path d=\"M19 3H5c-1.1 0-2 .9-2 2v14c0 1.1.9 2 2 2h14c1.1 0 2-.9 2-2V5c0-1.1-.9-2-2-2zM9 17H7v-7h2v7zm4 0h-2V7h2v10zm4 0h-2v-4h2v4z\"/>\n",
              "    </g>\n",
              "</svg>\n",
              "  </button>\n",
              "\n",
              "<style>\n",
              "  .colab-df-quickchart {\n",
              "      --bg-color: #E8F0FE;\n",
              "      --fill-color: #1967D2;\n",
              "      --hover-bg-color: #E2EBFA;\n",
              "      --hover-fill-color: #174EA6;\n",
              "      --disabled-fill-color: #AAA;\n",
              "      --disabled-bg-color: #DDD;\n",
              "  }\n",
              "\n",
              "  [theme=dark] .colab-df-quickchart {\n",
              "      --bg-color: #3B4455;\n",
              "      --fill-color: #D2E3FC;\n",
              "      --hover-bg-color: #434B5C;\n",
              "      --hover-fill-color: #FFFFFF;\n",
              "      --disabled-bg-color: #3B4455;\n",
              "      --disabled-fill-color: #666;\n",
              "  }\n",
              "\n",
              "  .colab-df-quickchart {\n",
              "    background-color: var(--bg-color);\n",
              "    border: none;\n",
              "    border-radius: 50%;\n",
              "    cursor: pointer;\n",
              "    display: none;\n",
              "    fill: var(--fill-color);\n",
              "    height: 32px;\n",
              "    padding: 0;\n",
              "    width: 32px;\n",
              "  }\n",
              "\n",
              "  .colab-df-quickchart:hover {\n",
              "    background-color: var(--hover-bg-color);\n",
              "    box-shadow: 0 1px 2px rgba(60, 64, 67, 0.3), 0 1px 3px 1px rgba(60, 64, 67, 0.15);\n",
              "    fill: var(--button-hover-fill-color);\n",
              "  }\n",
              "\n",
              "  .colab-df-quickchart-complete:disabled,\n",
              "  .colab-df-quickchart-complete:disabled:hover {\n",
              "    background-color: var(--disabled-bg-color);\n",
              "    fill: var(--disabled-fill-color);\n",
              "    box-shadow: none;\n",
              "  }\n",
              "\n",
              "  .colab-df-spinner {\n",
              "    border: 2px solid var(--fill-color);\n",
              "    border-color: transparent;\n",
              "    border-bottom-color: var(--fill-color);\n",
              "    animation:\n",
              "      spin 1s steps(1) infinite;\n",
              "  }\n",
              "\n",
              "  @keyframes spin {\n",
              "    0% {\n",
              "      border-color: transparent;\n",
              "      border-bottom-color: var(--fill-color);\n",
              "      border-left-color: var(--fill-color);\n",
              "    }\n",
              "    20% {\n",
              "      border-color: transparent;\n",
              "      border-left-color: var(--fill-color);\n",
              "      border-top-color: var(--fill-color);\n",
              "    }\n",
              "    30% {\n",
              "      border-color: transparent;\n",
              "      border-left-color: var(--fill-color);\n",
              "      border-top-color: var(--fill-color);\n",
              "      border-right-color: var(--fill-color);\n",
              "    }\n",
              "    40% {\n",
              "      border-color: transparent;\n",
              "      border-right-color: var(--fill-color);\n",
              "      border-top-color: var(--fill-color);\n",
              "    }\n",
              "    60% {\n",
              "      border-color: transparent;\n",
              "      border-right-color: var(--fill-color);\n",
              "    }\n",
              "    80% {\n",
              "      border-color: transparent;\n",
              "      border-right-color: var(--fill-color);\n",
              "      border-bottom-color: var(--fill-color);\n",
              "    }\n",
              "    90% {\n",
              "      border-color: transparent;\n",
              "      border-bottom-color: var(--fill-color);\n",
              "    }\n",
              "  }\n",
              "</style>\n",
              "\n",
              "  <script>\n",
              "    async function quickchart(key) {\n",
              "      const quickchartButtonEl =\n",
              "        document.querySelector('#' + key + ' button');\n",
              "      quickchartButtonEl.disabled = true;  // To prevent multiple clicks.\n",
              "      quickchartButtonEl.classList.add('colab-df-spinner');\n",
              "      try {\n",
              "        const charts = await google.colab.kernel.invokeFunction(\n",
              "            'suggestCharts', [key], {});\n",
              "      } catch (error) {\n",
              "        console.error('Error during call to suggestCharts:', error);\n",
              "      }\n",
              "      quickchartButtonEl.classList.remove('colab-df-spinner');\n",
              "      quickchartButtonEl.classList.add('colab-df-quickchart-complete');\n",
              "    }\n",
              "    (() => {\n",
              "      let quickchartButtonEl =\n",
              "        document.querySelector('#df-fc902fe0-4c1b-4498-9130-28019bd82b44 button');\n",
              "      quickchartButtonEl.style.display =\n",
              "        google.colab.kernel.accessAllowed ? 'block' : 'none';\n",
              "    })();\n",
              "  </script>\n",
              "</div>\n",
              "\n",
              "    </div>\n",
              "  </div>\n"
            ],
            "application/vnd.google.colaboratory.intrinsic+json": {
              "type": "dataframe",
              "summary": "{\n  \"name\": \"categoricas\",\n  \"rows\": 4,\n  \"fields\": [\n    {\n      \"column\": \"month_of_reference\",\n      \"properties\": {\n        \"dtype\": \"string\",\n        \"num_unique_values\": 4,\n        \"samples\": [\n          12,\n          \"24260\",\n          \"202295\"\n        ],\n        \"semantic_type\": \"\",\n        \"description\": \"\"\n      }\n    },\n    {\n      \"column\": \"fipe_code\",\n      \"properties\": {\n        \"dtype\": \"string\",\n        \"num_unique_values\": 4,\n        \"samples\": [\n          2091,\n          \"425\",\n          \"202295\"\n        ],\n        \"semantic_type\": \"\",\n        \"description\": \"\"\n      }\n    },\n    {\n      \"column\": \"authentication\",\n      \"properties\": {\n        \"dtype\": \"string\",\n        \"num_unique_values\": 3,\n        \"samples\": [\n          \"202295\",\n          \"cfzlctzfwrcp\",\n          \"1\"\n        ],\n        \"semantic_type\": \"\",\n        \"description\": \"\"\n      }\n    },\n    {\n      \"column\": \"brand\",\n      \"properties\": {\n        \"dtype\": \"string\",\n        \"num_unique_values\": 4,\n        \"samples\": [\n          6,\n          \"44962\",\n          \"202295\"\n        ],\n        \"semantic_type\": \"\",\n        \"description\": \"\"\n      }\n    },\n    {\n      \"column\": \"model\",\n      \"properties\": {\n        \"dtype\": \"string\",\n        \"num_unique_values\": 4,\n        \"samples\": [\n          2112,\n          \"425\",\n          \"202295\"\n        ],\n        \"semantic_type\": \"\",\n        \"description\": \"\"\n      }\n    },\n    {\n      \"column\": \"fuel\",\n      \"properties\": {\n        \"dtype\": \"string\",\n        \"num_unique_values\": 4,\n        \"samples\": [\n          3,\n          \"168684\",\n          \"202295\"\n        ],\n        \"semantic_type\": \"\",\n        \"description\": \"\"\n      }\n    },\n    {\n      \"column\": \"gear\",\n      \"properties\": {\n        \"dtype\": \"string\",\n        \"num_unique_values\": 4,\n        \"samples\": [\n          2,\n          \"161883\",\n          \"202295\"\n        ],\n        \"semantic_type\": \"\",\n        \"description\": \"\"\n      }\n    },\n    {\n      \"column\": \"engine_size\",\n      \"properties\": {\n        \"dtype\": \"string\",\n        \"num_unique_values\": 4,\n        \"samples\": [\n          29,\n          \"47420\",\n          \"202295\"\n        ],\n        \"semantic_type\": \"\",\n        \"description\": \"\"\n      }\n    }\n  ]\n}"
            }
          },
          "metadata": {},
          "execution_count": 13
        }
      ],
      "execution_count": 13
    },
    {
      "cell_type": "markdown",
      "id": "454902a8",
      "metadata": {
        "id": "454902a8"
      },
      "source": [
        "### **1.5 Distribuição das Variáveis Categóricas**\n",
        "Contamos quantas ocorrências há para cada modelo e marca de carro."
      ]
    },
    {
      "cell_type": "code",
      "id": "53eb0ec9",
      "metadata": {
        "id": "53eb0ec9",
        "outputId": "1f5c6e5f-4095-450c-c4ad-8f54a9f0b9c0",
        "colab": {
          "base_uri": "https://localhost:8080/",
          "height": 490
        }
      },
      "source": [
        "data['model'].value_counts()"
      ],
      "outputs": [
        {
          "output_type": "execute_result",
          "data": {
            "text/plain": [
              "model\n",
              "Palio Week. Adv/Adv TRYON 1.8 mpi Flex    425\n",
              "Focus 1.6 S/SE/SE Plus Flex 8V/16V 5p     425\n",
              "Focus 2.0 16V/SE/SE Plus Flex 5p Aut.     400\n",
              "Saveiro 1.6 Mi/ 1.6 Mi Total Flex 8V      400\n",
              "Corvette 5.7/ 6.0, 6.2 Targa/Stingray     375\n",
              "                                         ... \n",
              "STEPWAY Zen Flex 1.0 12V Mec.               2\n",
              "Saveiro Robust 1.6 Total Flex 16V CD        2\n",
              "Saveiro Robust 1.6 Total Flex 16V           2\n",
              "Gol Last Edition 1.0 Flex 12V 5p            2\n",
              "Polo Track 1.0 Flex 12V 5p                  2\n",
              "Name: count, Length: 2112, dtype: int64"
            ],
            "text/html": [
              "<div>\n",
              "<style scoped>\n",
              "    .dataframe tbody tr th:only-of-type {\n",
              "        vertical-align: middle;\n",
              "    }\n",
              "\n",
              "    .dataframe tbody tr th {\n",
              "        vertical-align: top;\n",
              "    }\n",
              "\n",
              "    .dataframe thead th {\n",
              "        text-align: right;\n",
              "    }\n",
              "</style>\n",
              "<table border=\"1\" class=\"dataframe\">\n",
              "  <thead>\n",
              "    <tr style=\"text-align: right;\">\n",
              "      <th></th>\n",
              "      <th>count</th>\n",
              "    </tr>\n",
              "    <tr>\n",
              "      <th>model</th>\n",
              "      <th></th>\n",
              "    </tr>\n",
              "  </thead>\n",
              "  <tbody>\n",
              "    <tr>\n",
              "      <th>Palio Week. Adv/Adv TRYON 1.8 mpi Flex</th>\n",
              "      <td>425</td>\n",
              "    </tr>\n",
              "    <tr>\n",
              "      <th>Focus 1.6 S/SE/SE Plus Flex 8V/16V 5p</th>\n",
              "      <td>425</td>\n",
              "    </tr>\n",
              "    <tr>\n",
              "      <th>Focus 2.0 16V/SE/SE Plus Flex 5p Aut.</th>\n",
              "      <td>400</td>\n",
              "    </tr>\n",
              "    <tr>\n",
              "      <th>Saveiro 1.6 Mi/ 1.6 Mi Total Flex 8V</th>\n",
              "      <td>400</td>\n",
              "    </tr>\n",
              "    <tr>\n",
              "      <th>Corvette 5.7/ 6.0, 6.2 Targa/Stingray</th>\n",
              "      <td>375</td>\n",
              "    </tr>\n",
              "    <tr>\n",
              "      <th>...</th>\n",
              "      <td>...</td>\n",
              "    </tr>\n",
              "    <tr>\n",
              "      <th>STEPWAY Zen Flex 1.0 12V Mec.</th>\n",
              "      <td>2</td>\n",
              "    </tr>\n",
              "    <tr>\n",
              "      <th>Saveiro Robust 1.6 Total Flex 16V CD</th>\n",
              "      <td>2</td>\n",
              "    </tr>\n",
              "    <tr>\n",
              "      <th>Saveiro Robust 1.6 Total Flex 16V</th>\n",
              "      <td>2</td>\n",
              "    </tr>\n",
              "    <tr>\n",
              "      <th>Gol Last Edition 1.0 Flex 12V 5p</th>\n",
              "      <td>2</td>\n",
              "    </tr>\n",
              "    <tr>\n",
              "      <th>Polo Track 1.0 Flex 12V 5p</th>\n",
              "      <td>2</td>\n",
              "    </tr>\n",
              "  </tbody>\n",
              "</table>\n",
              "<p>2112 rows × 1 columns</p>\n",
              "</div><br><label><b>dtype:</b> int64</label>"
            ]
          },
          "metadata": {},
          "execution_count": 14
        }
      ],
      "execution_count": 14
    },
    {
      "metadata": {
        "id": "f21b185ca12b533e",
        "outputId": "b43f982b-a051-4b96-9a15-f1167db06151",
        "colab": {
          "base_uri": "https://localhost:8080/",
          "height": 304
        }
      },
      "cell_type": "code",
      "source": [
        "data['brand'].value_counts()"
      ],
      "id": "f21b185ca12b533e",
      "outputs": [
        {
          "output_type": "execute_result",
          "data": {
            "text/plain": [
              "brand\n",
              "Fiat               44962\n",
              "VW - VolksWagen    44312\n",
              "GM - Chevrolet     38590\n",
              "Ford               33150\n",
              "Renault            29191\n",
              "Nissan             12090\n",
              "Name: count, dtype: int64"
            ],
            "text/html": [
              "<div>\n",
              "<style scoped>\n",
              "    .dataframe tbody tr th:only-of-type {\n",
              "        vertical-align: middle;\n",
              "    }\n",
              "\n",
              "    .dataframe tbody tr th {\n",
              "        vertical-align: top;\n",
              "    }\n",
              "\n",
              "    .dataframe thead th {\n",
              "        text-align: right;\n",
              "    }\n",
              "</style>\n",
              "<table border=\"1\" class=\"dataframe\">\n",
              "  <thead>\n",
              "    <tr style=\"text-align: right;\">\n",
              "      <th></th>\n",
              "      <th>count</th>\n",
              "    </tr>\n",
              "    <tr>\n",
              "      <th>brand</th>\n",
              "      <th></th>\n",
              "    </tr>\n",
              "  </thead>\n",
              "  <tbody>\n",
              "    <tr>\n",
              "      <th>Fiat</th>\n",
              "      <td>44962</td>\n",
              "    </tr>\n",
              "    <tr>\n",
              "      <th>VW - VolksWagen</th>\n",
              "      <td>44312</td>\n",
              "    </tr>\n",
              "    <tr>\n",
              "      <th>GM - Chevrolet</th>\n",
              "      <td>38590</td>\n",
              "    </tr>\n",
              "    <tr>\n",
              "      <th>Ford</th>\n",
              "      <td>33150</td>\n",
              "    </tr>\n",
              "    <tr>\n",
              "      <th>Renault</th>\n",
              "      <td>29191</td>\n",
              "    </tr>\n",
              "    <tr>\n",
              "      <th>Nissan</th>\n",
              "      <td>12090</td>\n",
              "    </tr>\n",
              "  </tbody>\n",
              "</table>\n",
              "</div><br><label><b>dtype:</b> int64</label>"
            ]
          },
          "metadata": {},
          "execution_count": 15
        }
      ],
      "execution_count": 15
    },
    {
      "cell_type": "markdown",
      "id": "62891a3e",
      "metadata": {
        "id": "62891a3e"
      },
      "source": [
        "### **1.6 Resumo dos Resultados**\n",
        "Breve explicação sobre os principais insights da análise exploratória."
      ]
    },
    {
      "cell_type": "markdown",
      "id": "cd8d16f5",
      "metadata": {
        "id": "cd8d16f5"
      },
      "source": [
        "---\n",
        "## **2. Visualização dos Dados**"
      ]
    },
    {
      "metadata": {
        "id": "af8194da106dee1f"
      },
      "cell_type": "markdown",
      "source": [
        "### **2.1 Distribuição da Quantidade de Carros por Marca**\n",
        "Geramos um gráfico para visualizar a quantidade de registros por marca."
      ],
      "id": "af8194da106dee1f"
    },
    {
      "cell_type": "code",
      "id": "e3215701",
      "metadata": {
        "id": "e3215701",
        "outputId": "b4e9e817-86b1-4aa0-e955-5e80b7938cdd",
        "colab": {
          "base_uri": "https://localhost:8080/",
          "height": 727
        }
      },
      "source": [
        "brand_counts = data['brand'].value_counts().sort_values(ascending=False)\n",
        "\n",
        "plt.figure(figsize=(14, 7))\n",
        "sns.barplot(x=brand_counts.index, y=brand_counts.values, palette=\"viridis\")\n",
        "plt.title('Distribuição da Quantidade de Carros por Marca', fontsize=14, fontweight='bold')\n",
        "plt.xticks(rotation=45, ha='right', fontsize=10)\n",
        "plt.xlabel('Marca', fontsize=12)\n",
        "plt.ylabel('Quantidade de Carros', fontsize=12)\n",
        "plt.grid(axis='y', linestyle='--', alpha=0.7)\n",
        "\n",
        "plt.show()"
      ],
      "outputs": [
        {
          "output_type": "display_data",
          "data": {
            "text/plain": [
              "<Figure size 1400x700 with 1 Axes>"
            ],
            "image/png": "[encoded data removed]"
          },
          "metadata": {}
        }
      ],
      "execution_count": 16
    },
    {
      "cell_type": "markdown",
      "id": "a261913f",
      "metadata": {
        "id": "a261913f"
      },
      "source": [
        "### **2.2 Distribuição da Quantidade de Carros por Tipo de Engrenagem**\n",
        "Visualizamos a distribuição dos diferentes tipos de engrenagem (`gear`)."
      ]
    },
    {
      "cell_type": "code",
      "id": "fde02d50",
      "metadata": {
        "id": "fde02d50",
        "outputId": "269e3655-c933-4912-a630-d7f1db8159b2",
        "colab": {
          "base_uri": "https://localhost:8080/",
          "height": 676
        }
      },
      "source": [
        "gear_counts = data['gear'].value_counts()\n",
        "\n",
        "plt.figure(figsize=(8, 8))\n",
        "colors = sns.color_palette(\"pastel\")\n",
        "\n",
        "gear_counts.plot.pie(\n",
        "    autopct='%1.1f%%',\n",
        "    startangle=90,\n",
        "    shadow=True,\n",
        "    colors=colors,\n",
        "    wedgeprops={'edgecolor': 'black', 'linewidth': 1}\n",
        ")\n",
        "\n",
        "plt.title('Distribuição da Quantidade de Carros por Tipo de Engrenagem', fontsize=14, fontweight='bold')\n",
        "\n",
        "plt.show()"
      ],
      "outputs": [
        {
          "output_type": "display_data",
          "data": {
            "text/plain": [
              "<Figure size 800x800 with 1 Axes>"
            ],
            "image/png": "[encoded data removed]"
          },
          "metadata": {}
        }
      ],
      "execution_count": 17
    },
    {
      "cell_type": "markdown",
      "id": "7dde3101",
      "metadata": {
        "id": "7dde3101"
      },
      "source": [
        "### **2.3 Evolução da Média de Preços ao Longo dos Meses de 2022**\n",
        "Geramos um gráfico para observar a variação dos preços ao longo do tempo."
      ]
    },
    {
      "metadata": {
        "ExecuteTime": {
          "end_time": "2025-02-21T22:11:17.684134Z",
          "start_time": "2025-02-21T22:11:17.370818Z"
        },
        "id": "b6a7aee7458f7785",
        "outputId": "e156efce-971c-42bc-96b4-25da3f18981a",
        "colab": {
          "base_uri": "https://localhost:8080/",
          "height": 620
        }
      },
      "cell_type": "code",
      "source": [
        "plt.figure(figsize=(12, 6))\n",
        "\n",
        "data_2022 = data[data['year_of_reference'] == 2022].copy()\n",
        "\n",
        "sns.lineplot(data=data_2022, x='month_of_reference', y='avg_price_brl',  ci=None, marker='o', linewidth=2.5, color='b')\n",
        "plt.title('Evolução da Média de Preços ao Longo dos Meses de 2022', fontsize=14, fontweight='bold')\n",
        "plt.xlabel('Mês', fontsize=12)\n",
        "plt.ylabel('Preço Médio (BRL)', fontsize=12)\n",
        "\n",
        "\n",
        "plt.xticks(rotation=45, ha='right', fontsize=10)\n",
        "plt.grid(axis='y', linestyle='--', alpha=0.7)\n",
        "\n",
        "plt.show()\n"
      ],
      "id": "b6a7aee7458f7785",
      "outputs": [
        {
          "output_type": "display_data",
          "data": {
            "text/plain": [
              "<Figure size 1200x600 with 1 Axes>"
            ],
            "image/png": "[encoded data removed]"
          },
          "metadata": {}
        }
      ],
      "execution_count": 18
    },
    {
      "cell_type": "markdown",
      "id": "76e19748",
      "metadata": {
        "id": "76e19748"
      },
      "source": [
        "### **2.4 Distribuição da Média de Preços por Marca e Tipo de Engrenagem**\n",
        "Criamos um gráfico para analisar essa relação e escrevemos uma breve explicação sobre os padrões observados."
      ]
    },
    {
      "metadata": {
        "ExecuteTime": {
          "end_time": "2025-02-21T22:11:33.836757Z",
          "start_time": "2025-02-21T22:11:32.240975Z"
        },
        "id": "aa2c2518ff265537",
        "outputId": "360583a0-f2bc-4f8f-fab4-27d641b6d811",
        "colab": {
          "base_uri": "https://localhost:8080/",
          "height": 707
        }
      },
      "cell_type": "code",
      "source": [
        "brand_order = data.groupby('brand')['avg_price_brl'].mean().sort_values(ascending=False).index\n",
        "\n",
        "plt.figure(figsize=(14, 7))\n",
        "sns.barplot(data=data, x='brand', y='avg_price_brl', hue='gear', order=brand_order, palette='coolwarm')\n",
        "\n",
        "plt.title('Distribuição da Média de Preços por Marca e Tipo de Engrenagem', fontsize=14, fontweight='bold')\n",
        "plt.xticks(rotation=45, ha='right', fontsize=10)\n",
        "plt.xlabel('Marca', fontsize=12)\n",
        "plt.ylabel('Preço Médio (BRL)', fontsize=12)\n",
        "\n",
        "\n",
        "plt.legend(title='Tipo de Engrenagem', title_fontsize=12, fontsize=10)\n",
        "\n",
        "plt.grid(axis='y', linestyle='--', alpha=0.7)\n",
        "plt.tight_layout()\n",
        "\n",
        "plt.show()"
      ],
      "id": "aa2c2518ff265537",
      "outputs": [
        {
          "output_type": "display_data",
          "data": {
            "text/plain": [
              "<Figure size 1400x700 with 1 Axes>"
            ],
            "image/png": "[encoded data removed]"
          },
          "metadata": {}
        }
      ],
      "execution_count": 19
    },
    {
      "cell_type": "markdown",
      "id": "f7ea5572",
      "metadata": {
        "id": "f7ea5572"
      },
      "source": [
        "### **2.5 Distribuição da Média de Preços por Marca e Tipo de Combustível**\n",
        "Criamos um gráfico para visualizar essa relação e escrevemos uma breve explicação sobre os padrões observados."
      ]
    },
    {
      "cell_type": "code",
      "id": "fb056d39",
      "metadata": {
        "ExecuteTime": {
          "end_time": "2025-02-21T22:11:53.774822Z",
          "start_time": "2025-02-21T22:11:52.195978Z"
        },
        "id": "fb056d39",
        "outputId": "0ebbe8be-42d6-47d1-a994-c9e566e9cf72",
        "colab": {
          "base_uri": "https://localhost:8080/",
          "height": 707
        }
      },
      "source": [
        "brand_order = data.groupby('brand')['avg_price_brl'].mean().sort_values(ascending=False).index\n",
        "\n",
        "plt.figure(figsize=(14, 7))\n",
        "sns.barplot(data=data, x='brand', y='avg_price_brl', hue='fuel', order=brand_order, palette='viridis')\n",
        "\n",
        "plt.title('Distribuição da Média de Preços por Marca e Tipo de Combustível', fontsize=14, fontweight='bold')\n",
        "plt.xticks(rotation=45, ha='right', fontsize=10)\n",
        "plt.xlabel('Marca', fontsize=12)\n",
        "plt.ylabel('Preço Médio (BRL)', fontsize=12)\n",
        "\n",
        "plt.legend(title='Tipo de Combustível', title_fontsize=12, fontsize=10)\n",
        "\n",
        "plt.grid(axis='y', linestyle=':', alpha=0.7)\n",
        "plt.tight_layout()\n",
        "\n",
        "plt.show()\n"
      ],
      "outputs": [
        {
          "output_type": "display_data",
          "data": {
            "text/plain": [
              "<Figure size 1400x700 with 1 Axes>"
            ],
            "image/png": "[encoded data removed]"
          },
          "metadata": {}
        }
      ],
      "execution_count": 20
    },
    {
      "cell_type": "markdown",
      "id": "33a4b02b",
      "metadata": {
        "id": "33a4b02b"
      },
      "source": [
        "## **3. Aplicação de Modelos de Machine Learning**"
      ]
    },
    {
      "cell_type": "markdown",
      "id": "eda187d1",
      "metadata": {
        "id": "eda187d1"
      },
      "source": [
        "### **3.1 Seleção das Variáveis para Modelagem**\n",
        "Escolhemos as variáveis numéricas e transformamos variáveis categóricas para usá-las no modelo."
      ]
    },
    {
      "cell_type": "code",
      "id": "ccad053e",
      "metadata": {
        "id": "ccad053e"
      },
      "source": [
        "# Código para seleção e transformação de variáveis"
      ],
      "outputs": [],
      "execution_count": null
    },
    {
      "cell_type": "markdown",
      "id": "a7bb860b",
      "metadata": {
        "id": "a7bb860b"
      },
      "source": [
        "### **3.2 Divisão dos Dados em Treino e Teste**\n",
        "Separamos 75% dos dados para treino e 25% para teste."
      ]
    },
    {
      "cell_type": "code",
      "id": "aaab1472",
      "metadata": {
        "id": "aaab1472"
      },
      "source": [
        "# Código para divisão dos dados"
      ],
      "outputs": [],
      "execution_count": null
    },
    {
      "cell_type": "markdown",
      "id": "100fafad",
      "metadata": {
        "id": "100fafad"
      },
      "source": [
        "### **3.3 Treinamento dos Modelos**\n",
        "Treinamos dois modelos de regressão para prever o preço médio dos carros:\n",
        "- `RandomForestRegressor`\n",
        "- `XGBRegressor`"
      ]
    },
    {
      "cell_type": "code",
      "id": "63108804",
      "metadata": {
        "id": "63108804"
      },
      "source": [
        "# Código para treinamento do Random Forest"
      ],
      "outputs": [],
      "execution_count": null
    },
    {
      "cell_type": "code",
      "id": "7123251b",
      "metadata": {
        "id": "7123251b"
      },
      "source": [
        "# Código para treinamento do XGBoost"
      ],
      "outputs": [],
      "execution_count": null
    },
    {
      "cell_type": "markdown",
      "id": "0f486e0d",
      "metadata": {
        "id": "0f486e0d"
      },
      "source": [
        "### **3.4 Armazenamento das Predições**\n",
        "Salvamos os valores previstos pelos modelos."
      ]
    },
    {
      "cell_type": "code",
      "id": "6ca549a0",
      "metadata": {
        "id": "6ca549a0"
      },
      "source": [
        "# Código para armazenar as previsões"
      ],
      "outputs": [],
      "execution_count": null
    },
    {
      "cell_type": "markdown",
      "id": "520dc0e4",
      "metadata": {
        "id": "520dc0e4"
      },
      "source": [
        "### **3.5 Importância das Variáveis**\n",
        "Analisamos as variáveis mais relevantes para a predição do preço dos carros."
      ]
    },
    {
      "cell_type": "code",
      "id": "8ce3e6ca",
      "metadata": {
        "id": "8ce3e6ca"
      },
      "source": [
        "# Código para análise da importância das variáveis"
      ],
      "outputs": [],
      "execution_count": null
    },
    {
      "cell_type": "markdown",
      "id": "c96fefe4",
      "metadata": {
        "id": "c96fefe4"
      },
      "source": [
        "### **3.6 Escolha do Melhor Modelo**\n",
        "Comparamos os modelos usando as métricas MSE, MAE e R²."
      ]
    },
    {
      "cell_type": "code",
      "id": "c90d5c30",
      "metadata": {
        "id": "c90d5c30"
      },
      "source": [
        "# Código para calcular e comparar métricas dos modelos"
      ],
      "outputs": [],
      "execution_count": null
    },
    {
      "cell_type": "markdown",
      "id": "fd176701",
      "metadata": {
        "id": "fd176701"
      },
      "source": [
        "### **3.7 Resumo dos Resultados**\n",
        "Breve explicação sobre qual modelo teve o melhor desempenho."
      ]
    },
    {
      "cell_type": "code",
      "id": "cb05a2b9",
      "metadata": {
        "id": "cb05a2b9"
      },
      "source": [
        "# Código para exibir um resumo final dos resultados"
      ],
      "outputs": [],
      "execution_count": null
    }
  ],
  "metadata": {
    "kernelspec": {
      "name": "python3",
      "language": "python",
      "display_name": "Python 3 (ipykernel)"
    },
    "colab": {
      "provenance": []
    }
  },
  "nbformat": 4,
  "nbformat_minor": 5
}